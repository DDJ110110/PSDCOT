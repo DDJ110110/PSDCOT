{
 "cells": [
  {
   "cell_type": "code",
   "execution_count": 17,
   "metadata": {},
   "outputs": [],
   "source": [
    "import csv\n",
    "import os\n",
    "import torch\n",
    "def save_table(dirpath,filepath):\n",
    "    pathin = f'{dirpath}/{filepath}'\n",
    "    pathout = pathin.replace('../log','../tables').replace('.log','.csv')\n",
    "\n",
    "    with open(pathin) as f:\n",
    "        lines = f.readlines()\n",
    "        metirs = []\n",
    "        for line in lines:\n",
    "            _content = line.split('\\t')[1]\n",
    "            metirs.append(float(_content.split(': ')[1]))\n",
    "        metirs.sort(reverse=True)\n",
    "        # print(metirs)\n",
    "        if len(metirs) == 0:\n",
    "            print(pathin)\n",
    "            assert False\n",
    "        metir = round(sum(metirs) / len(metirs),2)\n",
    "        if not os.path.exists('/'.join(pathout.split('/')[:-1])):\n",
    "            os.makedirs('/'.join(pathout.split('/')[:-1]))\n",
    "        with open(pathout,'w') as fw:\n",
    "            wt = csv.writer(fw)\n",
    "            wt.writerow([metir])\n",
    "            \n",
    "\n",
    "# save_table('lstm','in-domain','best_hc_r_500_0.0%_0.0%_1.0%')\n"
   ]
  },
  {
   "cell_type": "code",
   "execution_count": 18,
   "metadata": {},
   "outputs": [],
   "source": [
    "import csv\n",
    "import os\n",
    "import torch\n",
    "def write_table(model_type,domain_type,add_dict,ratio_dict,remove = True):\n",
    "    for name_add in add_dict:\n",
    "        # print(name_add)\n",
    "        if not os.path.exists('/'.join(name_add.split('/')[:-1])):\n",
    "            os.makedirs('/'.join(name_add.split('/')[:-1]))\n",
    "\n",
    "        with open(name_add,'a+') as fwa:\n",
    "            wta = csv.writer(fwa)\n",
    "            if os.path.getsize(name_add) == 0:\n",
    "                wta.writerow(['name','macro_f1'])\n",
    "            metirs_add = sorted(add_dict[name_add],key = lambda x: (x[0].split('/')[-1].split('_')[1],int(x[0].split('/')[-1].split('_')[0])), reverse=False)\n",
    "\n",
    "            wta.writerows(metirs_add)\n",
    "\n",
    "    for name_ratio in ratio_dict:\n",
    "        if not os.path.exists('/'.join(name_ratio.split('/')[:-1])):\n",
    "            os.makedirs('/'.join(name_ratio.split('/')[:-1]))\n",
    "        with open(name_ratio,'a+') as fwr:\n",
    "            wtr = csv.writer(fwr)\n",
    "            if os.path.getsize(name_ratio) == 0:\n",
    "                wtr.writerow(['name','macro_f1'])\n",
    "            metirs_ratio = sorted(ratio_dict[name_ratio],key = lambda x: (x[0].split('/')[-1].split('_')[1],x[0].split('/')[-1].split('_')[0]), reverse=False)\n",
    "            wtr.writerows(metirs_ratio)\n",
    "\n",
    "# save_table('lstm','in-domain','best_hc_r_500_0.0%_0.0%_1.0%')\n"
   ]
  },
  {
   "cell_type": "code",
   "execution_count": 18,
   "metadata": {},
   "outputs": [],
   "source": [
    "import os\n",
    "data_trend = {}\n",
    "save_data = {}\n",
    "model_type = 'MPLN'\n",
    "domain_types = ['in-domain','cross','zero']\n",
    "domain_type = domain_types[0]\n",
    "base_path='../log'\n",
    "ratio_dict,add_dict = {},{}\n",
    "\n",
    "for dirpath, dirnames, filenames, in os.walk(f'{base_path}'):\n",
    "    for filepath in filenames:\n",
    "        if 'best' in filepath and domain_type in dirpath:\n",
    "            save_table(dirpath,filepath)\n",
    "# print(add_dict['../table/lstm/in-domain/add/best_hc_r_0.0%_1.0%.log.csv'])\n",
    "# write_table(model_type,domain_type,add_dict,ratio_dict)"
   ]
  }
 ],
 "metadata": {
  "kernelspec": {
   "display_name": "chatgpt",
   "language": "python",
   "name": "python3"
  },
  "language_info": {
   "codemirror_mode": {
    "name": "ipython",
    "version": 3
   },
   "file_extension": ".py",
   "mimetype": "text/x-python",
   "name": "python",
   "nbconvert_exporter": "python",
   "pygments_lexer": "ipython3",
   "version": "3.9.7"
  },
  "orig_nbformat": 4
 },
 "nbformat": 4,
 "nbformat_minor": 2
}
